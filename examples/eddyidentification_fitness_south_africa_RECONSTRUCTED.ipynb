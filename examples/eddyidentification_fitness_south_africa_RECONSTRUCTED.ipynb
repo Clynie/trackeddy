{
 "cells": [
  {
   "cell_type": "code",
   "execution_count": 1,
   "metadata": {},
   "outputs": [],
   "source": [
    "# Importing all libraries.\n",
    "from pylab import *\n",
    "from netCDF4 import Dataset\n",
    "%matplotlib inline\n",
    "import os\n",
    "import cmocean as cm\n",
    "from trackeddy.tracking import *\n",
    "from trackeddy.datastruct import *\n",
    "from trackeddy.geometryfunc import *\n",
    "from trackeddy.init import *\n",
    "from trackeddy.physics import *\n",
    "from trackeddy.plotfunc import *"
   ]
  },
  {
   "cell_type": "code",
   "execution_count": 2,
   "metadata": {},
   "outputs": [],
   "source": [
    "# Output data path\n",
    "outputpath='/g/data3/hh5/tmp/akm157/mom01v5_kds75/output306/'\n",
    "# Import SSH values to python environment.\n",
    "ncfile=Dataset(outputpath+'rregionsouthern_ocean_daily_eta_t.nc')\n",
    "eta=ncfile.variables['eta_t'][:]*100\n",
    "# Import geographic coordinates (Lon,Lat)\n",
    "lon=ncfile.variables['xt_ocean_sub01'][:]\n",
    "lat=ncfile.variables['yt_ocean_sub01'][:]"
   ]
  },
  {
   "cell_type": "code",
   "execution_count": 3,
   "metadata": {},
   "outputs": [],
   "source": [
    "# Import SSH 10 yrs mean values to python environment.\n",
    "ncfile=Dataset('/home/156/jm5970/github/trackeddy/data.input/meanssh_10yrs_AEXP.nc')\n",
    "ssh_mean=squeeze(ncfile.variables['SSH_mean'][:])\n",
    "# Import geographic coordinates (Lon,Lat)\n",
    "lon=ncfile.variables['Longitude'][:]\n",
    "lat=ncfile.variables['Latitude'][:]"
   ]
  },
  {
   "cell_type": "code",
   "execution_count": 4,
   "metadata": {},
   "outputs": [
    {
     "name": "stdout",
     "output_type": "stream",
     "text": [
      "(30, 931, 3600)\n"
     ]
    }
   ],
   "source": [
    "#Area in indexes, probably in the future it will be added an option for lon - lat coords.\n",
    "eta=eta[0:30,:,:]\n",
    "#eta=eta[0:60,300::,2900:]\n",
    "#ssh_mean=ssh_mean[300::,2900::]\n",
    "#lon=lon[2900::]\n",
    "#lat=lat[300::]\n",
    "areamap=array([[0,len(lon)],[0,len(lat)]])\n",
    "ssha=eta-ssh_mean\n",
    "print(shape(eta))"
   ]
  },
  {
   "cell_type": "markdown",
   "metadata": {},
   "source": [
    "# Default Values\n",
    "\n",
    "Eccentricity Fit = 0.8\n",
    "\n",
    "Ellipse Fit = 0.85\n",
    "\n",
    "Gauss Fit = 0.65"
   ]
  },
  {
   "cell_type": "code",
   "execution_count": null,
   "metadata": {},
   "outputs": [
    {
     "name": "stdout",
     "output_type": "stream",
     "text": [
      " 0% [======================>]77% Time Elapsed: 1007 s  Number of contours analysed: 12718 "
     ]
    }
   ],
   "source": [
    "eddytd=analyseddyzt(eta,lon,lat,0,30,1,25,5,5,data_meant=ssh_mean,areamap=areamap,mask=''\\\n",
    "                    ,destdir='',physics='',eccenfit=0.8,ellipsrsquarefit=0.85,gaussrsquarefit=0.65,\\\n",
    "                    diagnostics=False,pprint=False)"
   ]
  },
  {
   "cell_type": "code",
   "execution_count": null,
   "metadata": {
    "scrolled": true
   },
   "outputs": [],
   "source": [
    "eddytdn=analyseddyzt(eta,lon,lat,0,30,1,-25,-5,-5,data_meant=ssh_mean,areamap=areamap,mask=''\\\n",
    "                    ,destdir='',physics='',eccenfit=0.8,ellipsrsquarefit=0.85,gaussrsquarefit=0.65,\\\n",
    "                    diagnostics=False,pprint=False)"
   ]
  },
  {
   "cell_type": "code",
   "execution_count": null,
   "metadata": {},
   "outputs": [],
   "source": [
    "threshold=1\n",
    "eddyp=reconstruct_syntetic(shape(eta),lon,lat,eddytd)\n",
    "eddyp[eddyp>=5]=np.nan\n",
    "eddyn=reconstruct_syntetic(shape(eta),lon,lat,eddytdn)\n",
    "eddyn[eddyn<=-5]=np.nan\n",
    "eddyfield=eddyp+eddyn"
   ]
  },
  {
   "cell_type": "code",
   "execution_count": null,
   "metadata": {},
   "outputs": [],
   "source": [
    "pcolormesh(lon,lat,eddyfield[0,:,:])\n",
    "colorbar()\n",
    "pcolormesh(lon,lat,ssha[0,:,:],shading='gouraud',cmap=cm.cm.balance,vmin=-40,vmax=40,alpha=0.1)"
   ]
  },
  {
   "cell_type": "code",
   "execution_count": null,
   "metadata": {},
   "outputs": [],
   "source": [
    "import matplotlib.pyplot as plt\n",
    "import numpy as np\n",
    "import matplotlib.gridspec as gridspec\n",
    "from matplotlib import animation, rc\n",
    "rc('animation', html='html5')\n",
    "\n",
    "###########\n",
    "\n",
    "fig = plt.figure(figsize=(10, 10),facecolor='white')\n",
    "gs = gridspec.GridSpec(1, 1)\n",
    "\n",
    "#############################\n",
    "\n",
    "ax1 = plt.subplot(gs[0,0])\n",
    "\n",
    "lonmm,latmm=np.meshgrid(lon,lat)\n",
    "\n",
    "map = Basemap(projection='ortho',lat_0=mean(lat),lon_0=mean(lon),resolution='c',ax=ax1)\n",
    "lonm,latm=map(lonmm,latmm)\n",
    "map.drawmeridians(np.arange(0,360,30),labels=[1,1,0,0],fontsize=10)\n",
    "map.drawparallels(np.arange(0,360,30),labels=[1,1,0,0],fontsize=10)\n",
    "map.fillcontinents(color='black',lake_color='black')\n",
    "map.drawcoastlines()\n",
    "map.drawcoastlines()\n",
    "\n",
    "#quad2 = ax1.pcolormesh(lonm,latm,eddyfield[0,:,:],shading='gouraud',cmap=cm.cm.balance,\\\n",
    "#              vmin=-40,vmax=40)\n",
    "\n",
    "\n",
    "def init():\n",
    "    quad1.set_array([])\n",
    "    quad2.set_array([])\n",
    "    return quad1,quad2\n",
    "\n",
    "def animate(iter):\n",
    "    #ax1.contourf(lonm,latm,ssha[0,:,:],shading='gouraud',cmap=cm.cm.balance,vmin=-40,vmax=40,alpha=0.1)\n",
    "    ax1.contourf(lonm,latm,ssha[iter,:,:],shading='gouraud',cmap=cm.cm.oxy,vmin=-40,vmax=40,alpha=0.4)\n",
    "    ax1.contourf(lonm,latm,eddyfield[iter,:,:],shading='gouraud',cmap=cm.cm.balance,\\\n",
    "              vmin=-40,vmax=40,alpha=0.9)\n",
    "    #quad2.set_array(ssha[iter,:,:].ravel())\n",
    "    #quad1.set_array(eddyfield[iter,:,:].ravel())\n",
    "    \n",
    "    #ax1.pcolormesh(lonm,latm,eddyfield[iter,:,:],shading='gouraud',cmap=cm.cm.balance,vmin=-40,vmax=40,alpha=1)\n",
    "    ax1.set_title('%03d'%(iter))\n",
    "    \n",
    "    #quad2.set_array(eddyfield[iter,:,:].ravel())\n",
    "    return\n",
    "\n",
    "gs.tight_layout(fig)\n",
    "\n",
    "anim2 = animation.FuncAnimation(fig,animate,frames=60,interval=100,blit=False,repeat=True)\n",
    "plt.close()\n",
    "anim2"
   ]
  },
  {
   "cell_type": "markdown",
   "metadata": {},
   "source": [
    "# Default Values\n",
    "\n",
    "Eccentricity Fit = 0.6\n",
    "\n",
    "Ellipse Fit = 0.85\n",
    "\n",
    "Gauss Fit = 0.65"
   ]
  },
  {
   "cell_type": "code",
   "execution_count": null,
   "metadata": {},
   "outputs": [],
   "source": [
    "eddytd=analyseddyzt(eta,lon,lat,0,30,1,25,5,5,data_meant=ssh_mean,areamap=areamap,mask=''\\\n",
    "                    ,destdir='',physics='',eccenfit=0.75,ellipsrsquarefit=0.85,gaussrsquarefit=0.65,\\\n",
    "                    diagnostics=False,pprint=False)"
   ]
  },
  {
   "cell_type": "code",
   "execution_count": null,
   "metadata": {},
   "outputs": [],
   "source": [
    "eddytdn=analyseddyzt(eta,lon,lat,0,30,1,-25,-5,-5,data_meant=ssh_mean,areamap=areamap,mask=''\\\n",
    "                    ,destdir='',physics='',eccenfit=0.75,ellipsrsquarefit=0.85,gaussrsquarefit=0.65,\\\n",
    "                    diagnostics=False,pprint=False)"
   ]
  },
  {
   "cell_type": "code",
   "execution_count": null,
   "metadata": {},
   "outputs": [],
   "source": [
    "threshold=1\n",
    "eddyp=reconstruct_syntetic(shape(eta),lon,lat,eddytd)\n",
    "eddyp[eddyp>=5]=np.nan\n",
    "eddyn=reconstruct_syntetic(shape(eta),lon,lat,eddytdn)\n",
    "eddyn[eddyn<=-5]=np.nan\n",
    "eddyfield=eddyp+eddyn"
   ]
  },
  {
   "cell_type": "code",
   "execution_count": null,
   "metadata": {},
   "outputs": [],
   "source": [
    "import matplotlib.pyplot as plt\n",
    "import numpy as np\n",
    "import matplotlib.gridspec as gridspec\n",
    "from matplotlib import animation, rc\n",
    "rc('animation', html='html5')\n",
    "\n",
    "###########\n",
    "\n",
    "fig = plt.figure(figsize=(10, 10),facecolor='white')\n",
    "gs = gridspec.GridSpec(1, 1)\n",
    "\n",
    "#############################\n",
    "\n",
    "ax1 = plt.subplot(gs[0,0])\n",
    "\n",
    "lonmm,latmm=np.meshgrid(lon,lat)\n",
    "\n",
    "map = Basemap(projection='ortho',lat_0=mean(lat),lon_0=mean(lon),resolution='c',ax=ax1)\n",
    "lonm,latm=map(lonmm,latmm)\n",
    "map.drawmeridians(np.arange(0,360,30),labels=[1,1,0,0],fontsize=10)\n",
    "map.drawparallels(np.arange(0,360,30),labels=[1,1,0,0],fontsize=10)\n",
    "map.fillcontinents(color='black',lake_color='black')\n",
    "map.drawcoastlines()\n",
    "map.drawcoastlines()\n",
    "\n",
    "#quad2 = ax1.pcolormesh(lonm,latm,eddyfield[0,:,:],shading='gouraud',cmap=cm.cm.balance,\\\n",
    "#              vmin=-40,vmax=40)\n",
    "\n",
    "\n",
    "def init():\n",
    "    quad1.set_array([])\n",
    "    quad2.set_array([])\n",
    "    return quad1,quad2\n",
    "\n",
    "def animate(iter):\n",
    "    #ax1.contourf(lonm,latm,ssha[0,:,:],shading='gouraud',cmap=cm.cm.balance,vmin=-40,vmax=40,alpha=0.1)\n",
    "    ax1.contourf(lonm,latm,ssha[iter,:,:],shading='gouraud',cmap=cm.cm.oxy,vmin=-40,vmax=40,alpha=0.5)\n",
    "    ax1.contourf(lonm,latm,eddyfield[iter,:,:],shading='gouraud',cmap=cm.cm.balance,\\\n",
    "              vmin=-40,vmax=40,alpha=0.9)\n",
    "    #quad2.set_array(ssha[iter,:,:].ravel())\n",
    "    #quad1.set_array(eddyfield[iter,:,:].ravel())\n",
    "    \n",
    "    #ax1.pcolormesh(lonm,latm,eddyfield[iter,:,:],shading='gouraud',cmap=cm.cm.balance,vmin=-40,vmax=40,alpha=1)\n",
    "    ax1.set_title('%03d'%(iter))\n",
    "    \n",
    "    #quad2.set_array(eddyfield[iter,:,:].ravel())\n",
    "    return\n",
    "\n",
    "gs.tight_layout(fig)\n",
    "\n",
    "anim2 = animation.FuncAnimation(fig,animate,frames=60,interval=100,blit=False,repeat=True)\n",
    "plt.close()\n",
    "anim2"
   ]
  },
  {
   "cell_type": "markdown",
   "metadata": {},
   "source": [
    "# Default Values\n",
    "\n",
    "Eccentricity Fit = 0.8\n",
    "\n",
    "Ellipse Fit = 0.5\n",
    "\n",
    "Gauss Fit = 0.65"
   ]
  },
  {
   "cell_type": "code",
   "execution_count": null,
   "metadata": {},
   "outputs": [],
   "source": [
    "eddytd=analyseddyzt(eta,lon,lat,0,30,1,25,5,5,data_meant=ssh_mean,areamap=areamap,mask=''\\\n",
    "                    ,destdir='',physics='',eccenfit=0.8,ellipsrsquarefit=0.5,gaussrsquarefit=0.65,\\\n",
    "                    diagnostics=False,pprint=False)"
   ]
  },
  {
   "cell_type": "code",
   "execution_count": null,
   "metadata": {},
   "outputs": [],
   "source": [
    "eddytdn=analyseddyzt(eta,lon,lat,0,30,1,-25,-5,-5,data_meant=ssh_mean,areamap=areamap,mask=''\\\n",
    "                    ,destdir='',physics='',eccenfit=0.8,ellipsrsquarefit=0.5,gaussrsquarefit=0.65,\\\n",
    "                    diagnostics=False,pprint=False)"
   ]
  },
  {
   "cell_type": "code",
   "execution_count": null,
   "metadata": {},
   "outputs": [],
   "source": [
    "threshold=1\n",
    "eddyp=reconstruct_syntetic(shape(eta),lon,lat,eddytd)\n",
    "eddyp[eddyp>=5]=np.nan\n",
    "eddyn=reconstruct_syntetic(shape(eta),lon,lat,eddytdn)\n",
    "eddyn[eddyn<=-5]=np.nan\n",
    "eddyfield=eddyp+eddyn"
   ]
  },
  {
   "cell_type": "code",
   "execution_count": null,
   "metadata": {},
   "outputs": [],
   "source": [
    "#pcolormesh(eddysplot[0,:,:])"
   ]
  },
  {
   "cell_type": "code",
   "execution_count": null,
   "metadata": {},
   "outputs": [],
   "source": [
    "import matplotlib.pyplot as plt\n",
    "import numpy as np\n",
    "import matplotlib.gridspec as gridspec\n",
    "from matplotlib import animation, rc\n",
    "rc('animation', html='html5')\n",
    "\n",
    "###########\n",
    "\n",
    "fig = plt.figure(figsize=(10, 10),facecolor='white')\n",
    "gs = gridspec.GridSpec(1, 1)\n",
    "\n",
    "#############################\n",
    "\n",
    "ax1 = plt.subplot(gs[0,0])\n",
    "\n",
    "lonmm,latmm=np.meshgrid(lon,lat)\n",
    "\n",
    "map = Basemap(projection='ortho',lat_0=mean(lat),lon_0=mean(lon),resolution='c',ax=ax1)\n",
    "lonm,latm=map(lonmm,latmm)\n",
    "map.drawmeridians(np.arange(0,360,30),labels=[1,1,0,0],fontsize=10)\n",
    "map.drawparallels(np.arange(0,360,30),labels=[1,1,0,0],fontsize=10)\n",
    "map.fillcontinents(color='black',lake_color='black')\n",
    "map.drawcoastlines()\n",
    "map.drawcoastlines()\n",
    "\n",
    "#quad2 = ax1.pcolormesh(lonm,latm,eddyfield[0,:,:],shading='gouraud',cmap=cm.cm.balance,\\\n",
    "#              vmin=-40,vmax=40)\n",
    "\n",
    "\n",
    "def init():\n",
    "    quad1.set_array([])\n",
    "    quad2.set_array([])\n",
    "    return quad1,quad2\n",
    "\n",
    "def animate(iter):\n",
    "    #ax1.contourf(lonm,latm,ssha[0,:,:],shading='gouraud',cmap=cm.cm.balance,vmin=-40,vmax=40,alpha=0.1)\n",
    "    ax1.contourf(lonm,latm,ssha[iter,:,:],shading='gouraud',cmap=cm.cm.oxy,vmin=-40,vmax=40,alpha=0.5)\n",
    "    ax1.contourf(lonm,latm,eddyfield[iter,:,:],shading='gouraud',cmap=cm.cm.balance,\\\n",
    "              vmin=-40,vmax=40,alpha=0.9)\n",
    "    #quad2.set_array(ssha[iter,:,:].ravel())\n",
    "    #quad1.set_array(eddyfield[iter,:,:].ravel())\n",
    "    \n",
    "    #ax1.pcolormesh(lonm,latm,eddyfield[iter,:,:],shading='gouraud',cmap=cm.cm.balance,vmin=-40,vmax=40,alpha=1)\n",
    "    ax1.set_title('%03d'%(iter))\n",
    "    \n",
    "    #quad2.set_array(eddyfield[iter,:,:].ravel())\n",
    "    return\n",
    "\n",
    "gs.tight_layout(fig)\n",
    "\n",
    "anim2 = animation.FuncAnimation(fig,animate,frames=60,interval=100,blit=False,repeat=True)\n",
    "plt.close()\n",
    "anim2"
   ]
  },
  {
   "cell_type": "code",
   "execution_count": null,
   "metadata": {},
   "outputs": [],
   "source": []
  },
  {
   "cell_type": "markdown",
   "metadata": {},
   "source": [
    "# Default Values\n",
    "\n",
    "Eccentricity Fit = 0.8\n",
    "\n",
    "Ellipse Fit = 0.85\n",
    "\n",
    "Gauss Fit = 0.90"
   ]
  },
  {
   "cell_type": "code",
   "execution_count": null,
   "metadata": {},
   "outputs": [],
   "source": [
    "eddytd=analyseddyzt(eta,lon,lat,0,30,1,25,5,5,data_meant=ssh_mean,areamap=areamap,mask=''\\\n",
    "                    ,destdir='',physics='',eccenfit=0.8,ellipsrsquarefit=0.85,gaussrsquarefit=0.9,\\\n",
    "                    diagnostics=False,pprint=False)"
   ]
  },
  {
   "cell_type": "code",
   "execution_count": null,
   "metadata": {
    "scrolled": true
   },
   "outputs": [],
   "source": [
    "eddytdn=analyseddyzt(eta,lon,lat,0,30,1,-25,-5,-5,data_meant=ssh_mean,areamap=areamap,mask=''\\\n",
    "                    ,destdir='',physics='',eccenfit=0.8,ellipsrsquarefit=0.85,gaussrsquarefit=0.9,\\\n",
    "                    diagnostics=False,pprint=False)"
   ]
  },
  {
   "cell_type": "code",
   "execution_count": null,
   "metadata": {},
   "outputs": [],
   "source": [
    "threshold=1\n",
    "eddyp=reconstruct_syntetic(shape(eta),lon,lat,eddytd)\n",
    "eddyp[eddyp>=5]=np.nan\n",
    "eddyn=reconstruct_syntetic(shape(eta),lon,lat,eddytdn)\n",
    "eddyn[eddyn<=-5]=np.nan\n",
    "eddyfield=eddyp+eddyn"
   ]
  },
  {
   "cell_type": "code",
   "execution_count": null,
   "metadata": {},
   "outputs": [],
   "source": [
    "import matplotlib.pyplot as plt\n",
    "import numpy as np\n",
    "import matplotlib.gridspec as gridspec\n",
    "from matplotlib import animation, rc\n",
    "rc('animation', html='html5')\n",
    "\n",
    "###########\n",
    "\n",
    "fig = plt.figure(figsize=(10, 10),facecolor='white')\n",
    "gs = gridspec.GridSpec(1, 1)\n",
    "\n",
    "#############################\n",
    "\n",
    "ax1 = plt.subplot(gs[0,0])\n",
    "\n",
    "lonmm,latmm=np.meshgrid(lon,lat)\n",
    "\n",
    "map = Basemap(projection='ortho',lat_0=mean(lat),lon_0=mean(lon),resolution='c',ax=ax1)\n",
    "lonm,latm=map(lonmm,latmm)\n",
    "map.drawmeridians(np.arange(0,360,30),labels=[1,1,0,0],fontsize=10)\n",
    "map.drawparallels(np.arange(0,360,30),labels=[1,1,0,0],fontsize=10)\n",
    "map.fillcontinents(color='black',lake_color='black')\n",
    "map.drawcoastlines()\n",
    "map.drawcoastlines()\n",
    "\n",
    "#quad2 = ax1.pcolormesh(lonm,latm,eddyfield[0,:,:],shading='gouraud',cmap=cm.cm.balance,\\\n",
    "#              vmin=-40,vmax=40)\n",
    "\n",
    "\n",
    "def init():\n",
    "    quad1.set_array([])\n",
    "    quad2.set_array([])\n",
    "    return quad1,quad2\n",
    "\n",
    "def animate(iter):\n",
    "    #ax1.contourf(lonm,latm,ssha[0,:,:],shading='gouraud',cmap=cm.cm.balance,vmin=-40,vmax=40,alpha=0.1)\n",
    "    ax1.contourf(lonm,latm,ssha[iter,:,:],shading='gouraud',cmap=cm.cm.oxy,vmin=-40,vmax=40,alpha=0.5)\n",
    "    ax1.contourf(lonm,latm,eddyfield[iter,:,:],shading='gouraud',cmap=cm.cm.balance,\\\n",
    "              vmin=-40,vmax=40,alpha=0.9)\n",
    "    #quad2.set_array(ssha[iter,:,:].ravel())\n",
    "    #quad1.set_array(eddyfield[iter,:,:].ravel())\n",
    "    \n",
    "    #ax1.pcolormesh(lonm,latm,eddyfield[iter,:,:],shading='gouraud',cmap=cm.cm.balance,vmin=-40,vmax=40,alpha=1)\n",
    "    ax1.set_title('%03d'%(iter))\n",
    "    \n",
    "    #quad2.set_array(eddyfield[iter,:,:].ravel())\n",
    "    return\n",
    "\n",
    "gs.tight_layout(fig)\n",
    "\n",
    "anim2 = animation.FuncAnimation(fig,animate,frames=60,interval=100,blit=False,repeat=True)\n",
    "plt.close()\n",
    "anim2"
   ]
  },
  {
   "cell_type": "code",
   "execution_count": null,
   "metadata": {},
   "outputs": [],
   "source": []
  },
  {
   "cell_type": "markdown",
   "metadata": {},
   "source": [
    "# Default Values\n",
    "\n",
    "Eccentricity Fit = 1\n",
    "\n",
    "Ellipse Fit = 0.85\n",
    "\n",
    "Gauss Fit = 0.85"
   ]
  },
  {
   "cell_type": "code",
   "execution_count": null,
   "metadata": {},
   "outputs": [],
   "source": [
    "eddytd=analyseddyzt(eta,lon,lat,0,30,1,25,5,5,data_meant=ssh_mean,areamap=areamap,mask=''\\\n",
    "                    ,destdir='',physics='',eccenfit=1,ellipsrsquarefit=0.85,gaussrsquarefit=0.85,\\\n",
    "                    diagnostics=False,pprint=False)"
   ]
  },
  {
   "cell_type": "code",
   "execution_count": null,
   "metadata": {
    "scrolled": true
   },
   "outputs": [],
   "source": [
    "eddytdn=analyseddyzt(eta,lon,lat,0,30,1,-25,-5,-5,data_meant=ssh_mean,areamap=areamap,mask=''\\\n",
    "                    ,destdir='',physics='',eccenfit=1,ellipsrsquarefit=0.85,gaussrsquarefit=0.85,\\\n",
    "                    diagnostics=False,pprint=False)"
   ]
  },
  {
   "cell_type": "code",
   "execution_count": null,
   "metadata": {},
   "outputs": [],
   "source": [
    "threshold=1\n",
    "eddyp=reconstruct_syntetic(shape(eta),lon,lat,eddytd)\n",
    "eddyp[eddyp>=5]=np.nan\n",
    "eddyn=reconstruct_syntetic(shape(eta),lon,lat,eddytdn)\n",
    "eddyn[eddyn<=-5]=np.nan\n",
    "eddyfield=eddyp+eddyn"
   ]
  },
  {
   "cell_type": "code",
   "execution_count": null,
   "metadata": {},
   "outputs": [],
   "source": [
    "import matplotlib.pyplot as plt\n",
    "import numpy as np\n",
    "import matplotlib.gridspec as gridspec\n",
    "from matplotlib import animation, rc\n",
    "rc('animation', html='html5')\n",
    "\n",
    "###########\n",
    "\n",
    "fig = plt.figure(figsize=(10, 10),facecolor='white')\n",
    "gs = gridspec.GridSpec(1, 1)\n",
    "\n",
    "#############################\n",
    "\n",
    "ax1 = plt.subplot(gs[0,0])\n",
    "\n",
    "lonmm,latmm=np.meshgrid(lon,lat)\n",
    "\n",
    "map = Basemap(projection='ortho',lat_0=mean(lat),lon_0=mean(lon),resolution='c',ax=ax1)\n",
    "lonm,latm=map(lonmm,latmm)\n",
    "map.drawmeridians(np.arange(0,360,30),labels=[1,1,0,0],fontsize=10)\n",
    "map.drawparallels(np.arange(0,360,30),labels=[1,1,0,0],fontsize=10)\n",
    "map.fillcontinents(color='black',lake_color='black')\n",
    "map.drawcoastlines()\n",
    "map.drawcoastlines()\n",
    "\n",
    "#quad2 = ax1.pcolormesh(lonm,latm,eddyfield[0,:,:],shading='gouraud',cmap=cm.cm.balance,\\\n",
    "#              vmin=-40,vmax=40)\n",
    "\n",
    "\n",
    "def init():\n",
    "    quad1.set_array([])\n",
    "    quad2.set_array([])\n",
    "    return quad1,quad2\n",
    "\n",
    "def animate(iter):\n",
    "    #ax1.contourf(lonm,latm,ssha[0,:,:],shading='gouraud',cmap=cm.cm.balance,vmin=-40,vmax=40,alpha=0.1)\n",
    "    ax1.contourf(lonm,latm,ssha[iter,:,:],shading='gouraud',cmap=cm.cm.oxy,vmin=-40,vmax=40,alpha=0.5)\n",
    "    ax1.contourf(lonm,latm,eddyfield[iter,:,:],shading='gouraud',cmap=cm.cm.balance,\\\n",
    "              vmin=-40,vmax=40,alpha=0.9)\n",
    "    #quad2.set_array(ssha[iter,:,:].ravel())\n",
    "    #quad1.set_array(eddyfield[iter,:,:].ravel())\n",
    "    \n",
    "    #ax1.pcolormesh(lonm,latm,eddyfield[iter,:,:],shading='gouraud',cmap=cm.cm.balance,vmin=-40,vmax=40,alpha=1)\n",
    "    ax1.set_title('%03d'%(iter))\n",
    "    \n",
    "    #quad2.set_array(eddyfield[iter,:,:].ravel())\n",
    "    return\n",
    "\n",
    "gs.tight_layout(fig)\n",
    "\n",
    "anim2 = animation.FuncAnimation(fig,animate,frames=60,interval=100,blit=False,repeat=True)\n",
    "plt.close()\n",
    "anim2"
   ]
  },
  {
   "cell_type": "code",
   "execution_count": null,
   "metadata": {},
   "outputs": [],
   "source": []
  },
  {
   "cell_type": "markdown",
   "metadata": {},
   "source": [
    "# Default Values\n",
    "\n",
    "Eccentricity Fit = 0.95\n",
    "\n",
    "Ellipse Fit = 0.85\n",
    "\n",
    "Gauss Fit = 0.85"
   ]
  },
  {
   "cell_type": "code",
   "execution_count": null,
   "metadata": {},
   "outputs": [],
   "source": [
    "eddytd=analyseddyzt(eta,lon,lat,0,30,1,25,5,5,data_meant=ssh_mean,areamap=areamap,mask=''\\\n",
    "                    ,destdir='',physics='',eccenfit=0.95,ellipsrsquarefit=0.85,gaussrsquarefit=0.85,\\\n",
    "                    diagnostics=False,pprint=False)"
   ]
  },
  {
   "cell_type": "code",
   "execution_count": null,
   "metadata": {
    "scrolled": true
   },
   "outputs": [],
   "source": [
    "eddytdn=analyseddyzt(eta,lon,lat,0,30,1,-25,-5,-5,data_meant=ssh_mean,areamap=areamap,mask=''\\\n",
    "                    ,destdir='',physics='',eccenfit=0.95,ellipsrsquarefit=0.85,gaussrsquarefit=0.85,\\\n",
    "                    diagnostics=False,pprint=False)"
   ]
  },
  {
   "cell_type": "code",
   "execution_count": null,
   "metadata": {},
   "outputs": [],
   "source": [
    "threshold=1\n",
    "eddyp=reconstruct_syntetic(shape(eta),lon,lat,eddytd)\n",
    "eddyp[eddyp>=5]=np.nan\n",
    "eddyn=reconstruct_syntetic(shape(eta),lon,lat,eddytdn)\n",
    "eddyn[eddyn<=-5]=np.nan\n",
    "eddyfield=eddyp+eddyn"
   ]
  },
  {
   "cell_type": "code",
   "execution_count": null,
   "metadata": {
    "scrolled": false
   },
   "outputs": [],
   "source": [
    "import matplotlib.pyplot as plt\n",
    "import numpy as np\n",
    "import matplotlib.gridspec as gridspec\n",
    "from matplotlib import animation, rc\n",
    "rc('animation', html='html5')\n",
    "\n",
    "###########\n",
    "\n",
    "fig = plt.figure(figsize=(10, 10),facecolor='white')\n",
    "gs = gridspec.GridSpec(1, 1)\n",
    "\n",
    "#############################\n",
    "\n",
    "ax1 = plt.subplot(gs[0,0])\n",
    "\n",
    "lonmm,latmm=np.meshgrid(lon,lat)\n",
    "\n",
    "map = Basemap(projection='ortho',lat_0=mean(lat),lon_0=mean(lon),resolution='c',ax=ax1)\n",
    "lonm,latm=map(lonmm,latmm)\n",
    "map.drawmeridians(np.arange(0,360,30),labels=[1,1,0,0],fontsize=10)\n",
    "map.drawparallels(np.arange(0,360,30),labels=[1,1,0,0],fontsize=10)\n",
    "map.fillcontinents(color='black',lake_color='black')\n",
    "map.drawcoastlines()\n",
    "map.drawcoastlines()\n",
    "\n",
    "#quad2 = ax1.pcolormesh(lonm,latm,eddyfield[0,:,:],shading='gouraud',cmap=cm.cm.balance,\\\n",
    "#              vmin=-40,vmax=40)\n",
    "\n",
    "\n",
    "def init():\n",
    "    quad1.set_array([])\n",
    "    quad2.set_array([])\n",
    "    return quad1,quad2\n",
    "\n",
    "def animate(iter):\n",
    "    #ax1.contourf(lonm,latm,ssha[0,:,:],shading='gouraud',cmap=cm.cm.balance,vmin=-40,vmax=40,alpha=0.1)\n",
    "    ax1.contourf(lonm,latm,ssha[iter,:,:],shading='gouraud',cmap=cm.cm.oxy,vmin=-40,vmax=40,alpha=0.5)\n",
    "    ax1.contourf(lonm,latm,eddyfield[iter,:,:],shading='gouraud',cmap=cm.cm.balance,\\\n",
    "              vmin=-40,vmax=40,alpha=0.9)\n",
    "    #quad2.set_array(ssha[iter,:,:].ravel())\n",
    "    #quad1.set_array(eddyfield[iter,:,:].ravel())\n",
    "    \n",
    "    #ax1.pcolormesh(lonm,latm,eddyfield[iter,:,:],shading='gouraud',cmap=cm.cm.balance,vmin=-40,vmax=40,alpha=1)\n",
    "    ax1.set_title('%03d'%(iter))\n",
    "    \n",
    "    #quad2.set_array(eddyfield[iter,:,:].ravel())\n",
    "    return\n",
    "\n",
    "gs.tight_layout(fig)\n",
    "\n",
    "anim2 = animation.FuncAnimation(fig,animate,frames=60,interval=100,blit=False,repeat=True)\n",
    "plt.close()\n",
    "anim2"
   ]
  },
  {
   "cell_type": "code",
   "execution_count": null,
   "metadata": {},
   "outputs": [],
   "source": []
  },
  {
   "cell_type": "markdown",
   "metadata": {},
   "source": [
    "# Default Values\n",
    "\n",
    "Eccentricity Fit = 0.8\n",
    "\n",
    "Ellipse Fit = 0.5\n",
    "\n",
    "Gauss Fit = 0.5"
   ]
  },
  {
   "cell_type": "code",
   "execution_count": null,
   "metadata": {},
   "outputs": [],
   "source": [
    "eddytd=analyseddyzt(eta,lon,lat,0,30,1,25,5,5,data_meant=ssh_mean,areamap=areamap,mask=''\\\n",
    "                    ,destdir='',physics='',eccenfit=0.8,ellipsrsquarefit=0.5,gaussrsquarefit=0.5,\\\n",
    "                    diagnostics=False,pprint=False)"
   ]
  },
  {
   "cell_type": "code",
   "execution_count": null,
   "metadata": {
    "scrolled": true
   },
   "outputs": [],
   "source": [
    "eddytdn=analyseddyzt(eta,lon,lat,0,30,1,-25,-5,-5,data_meant=ssh_mean,areamap=areamap,mask=''\\\n",
    "                    ,destdir='',physics='',eccenfit=0.8,ellipsrsquarefit=0.5,gaussrsquarefit=0.5,\\\n",
    "                    diagnostics=False,pprint=False)"
   ]
  },
  {
   "cell_type": "code",
   "execution_count": null,
   "metadata": {},
   "outputs": [],
   "source": [
    "threshold=1\n",
    "eddyp=reconstruct_syntetic(shape(eta),lon,lat,eddytd)\n",
    "eddyp[eddyp>=5]=np.nan\n",
    "eddyn=reconstruct_syntetic(shape(eta),lon,lat,eddytdn)\n",
    "eddyn[eddyn<=-5]=np.nan\n",
    "eddyfield=eddyp+eddyn"
   ]
  },
  {
   "cell_type": "code",
   "execution_count": null,
   "metadata": {},
   "outputs": [],
   "source": [
    "import matplotlib.pyplot as plt\n",
    "import numpy as np\n",
    "import matplotlib.gridspec as gridspec\n",
    "from matplotlib import animation, rc\n",
    "rc('animation', html='html5')\n",
    "\n",
    "###########\n",
    "\n",
    "fig = plt.figure(figsize=(10, 10),facecolor='white')\n",
    "gs = gridspec.GridSpec(1, 1)\n",
    "\n",
    "#############################\n",
    "\n",
    "ax1 = plt.subplot(gs[0,0])\n",
    "\n",
    "lonmm,latmm=np.meshgrid(lon,lat)\n",
    "\n",
    "map = Basemap(projection='ortho',lat_0=mean(lat),lon_0=mean(lon),resolution='c',ax=ax1)\n",
    "lonm,latm=map(lonmm,latmm)\n",
    "map.drawmeridians(np.arange(0,360,30),labels=[1,1,0,0],fontsize=10)\n",
    "map.drawparallels(np.arange(0,360,30),labels=[1,1,0,0],fontsize=10)\n",
    "map.fillcontinents(color='black',lake_color='black')\n",
    "map.drawcoastlines()\n",
    "map.drawcoastlines()\n",
    "\n",
    "#quad2 = ax1.pcolormesh(lonm,latm,eddyfield[0,:,:],shading='gouraud',cmap=cm.cm.balance,\\\n",
    "#              vmin=-40,vmax=40)\n",
    "\n",
    "\n",
    "def init():\n",
    "    quad1.set_array([])\n",
    "    quad2.set_array([])\n",
    "    return quad1,quad2\n",
    "\n",
    "def animate(iter):\n",
    "    #ax1.contourf(lonm,latm,ssha[0,:,:],shading='gouraud',cmap=cm.cm.balance,vmin=-40,vmax=40,alpha=0.1)\n",
    "    ax1.contourf(lonm,latm,ssha[iter,:,:],shading='gouraud',cmap=cm.cm.oxy,vmin=-40,vmax=40,alpha=0.5)\n",
    "    ax1.contourf(lonm,latm,eddyfield[iter,:,:],shading='gouraud',cmap=cm.cm.balance,\\\n",
    "              vmin=-40,vmax=40,alpha=0.9)\n",
    "    #quad2.set_array(ssha[iter,:,:].ravel())\n",
    "    #quad1.set_array(eddyfield[iter,:,:].ravel())\n",
    "    \n",
    "    #ax1.pcolormesh(lonm,latm,eddyfield[iter,:,:],shading='gouraud',cmap=cm.cm.balance,vmin=-40,vmax=40,alpha=1)\n",
    "    ax1.set_title('%03d'%(iter))\n",
    "    \n",
    "    #quad2.set_array(eddyfield[iter,:,:].ravel())\n",
    "    return\n",
    "\n",
    "gs.tight_layout(fig)\n",
    "\n",
    "anim2 = animation.FuncAnimation(fig,animate,frames=60,interval=100,blit=False,repeat=True)\n",
    "plt.close()\n",
    "anim2"
   ]
  },
  {
   "cell_type": "code",
   "execution_count": null,
   "metadata": {},
   "outputs": [],
   "source": []
  },
  {
   "cell_type": "markdown",
   "metadata": {},
   "source": [
    "# Default Values\n",
    "\n",
    "Eccentricity Fit = 1\n",
    "\n",
    "Ellipse Fit = 0.5\n",
    "\n",
    "Gauss Fit = 0.5"
   ]
  },
  {
   "cell_type": "code",
   "execution_count": null,
   "metadata": {},
   "outputs": [],
   "source": [
    "eddytd=analyseddyzt(eta,lon,lat,0,60,1,25,5,5,data_meant=ssh_mean,areamap=areamap,mask=''\\\n",
    "                    ,destdir='',physics='',eccenfit=1,ellipsrsquarefit=0.5,gaussrsquarefit=0.5,\\\n",
    "                    diagnostics=False,pprint=False)"
   ]
  },
  {
   "cell_type": "code",
   "execution_count": null,
   "metadata": {
    "scrolled": true
   },
   "outputs": [],
   "source": [
    "eddytdn=analyseddyzt(eta,lon,lat,0,60,1,-25,-5,-5,data_meant=ssh_mean,areamap=areamap,mask=''\\\n",
    "                    ,destdir='',physics='',eccenfit=1,ellipsrsquarefit=0.5,gaussrsquarefit=0.5,\\\n",
    "                    diagnostics=False,pprint=False)"
   ]
  },
  {
   "cell_type": "code",
   "execution_count": null,
   "metadata": {},
   "outputs": [],
   "source": [
    "threshold=1\n",
    "eddyp=reconstruct_syntetic(shape(eta),lon,lat,eddytd)\n",
    "eddyp[eddyp>=5]=np.nan\n",
    "eddyn=reconstruct_syntetic(shape(eta),lon,lat,eddytdn)\n",
    "eddyn[eddyn<=-5]=np.nan\n",
    "eddyfield=eddyp+eddyn"
   ]
  },
  {
   "cell_type": "code",
   "execution_count": null,
   "metadata": {},
   "outputs": [],
   "source": [
    "import matplotlib.pyplot as plt\n",
    "import numpy as np\n",
    "import matplotlib.gridspec as gridspec\n",
    "from matplotlib import animation, rc\n",
    "rc('animation', html='html5')\n",
    "\n",
    "###########\n",
    "\n",
    "fig = plt.figure(figsize=(10, 10),facecolor='white')\n",
    "gs = gridspec.GridSpec(1, 1)\n",
    "\n",
    "#############################\n",
    "\n",
    "ax1 = plt.subplot(gs[0,0])\n",
    "\n",
    "lonmm,latmm=np.meshgrid(lon,lat)\n",
    "\n",
    "map = Basemap(projection='ortho',lat_0=mean(lat),lon_0=mean(lon),resolution='c',ax=ax1)\n",
    "lonm,latm=map(lonmm,latmm)\n",
    "map.drawmeridians(np.arange(0,360,30),labels=[1,1,0,0],fontsize=10)\n",
    "map.drawparallels(np.arange(0,360,30),labels=[1,1,0,0],fontsize=10)\n",
    "map.fillcontinents(color='black',lake_color='black')\n",
    "map.drawcoastlines()\n",
    "map.drawcoastlines()\n",
    "\n",
    "#quad2 = ax1.pcolormesh(lonm,latm,eddyfield[0,:,:],shading='gouraud',cmap=cm.cm.balance,\\\n",
    "#              vmin=-40,vmax=40)\n",
    "\n",
    "\n",
    "def init():\n",
    "    quad1.set_array([])\n",
    "    quad2.set_array([])\n",
    "    return quad1,quad2\n",
    "\n",
    "def animate(iter):\n",
    "    #ax1.contourf(lonm,latm,ssha[0,:,:],shading='gouraud',cmap=cm.cm.balance,vmin=-40,vmax=40,alpha=0.1)\n",
    "    ax1.contourf(lonm,latm,ssha[iter,:,:],shading='gouraud',cmap=cm.cm.oxy,vmin=-40,vmax=40,alpha=0.5)\n",
    "    ax1.contourf(lonm,latm,eddyfield[iter,:,:],shading='gouraud',cmap=cm.cm.balance,\\\n",
    "              vmin=-40,vmax=40,alpha=0.9)\n",
    "    #quad2.set_array(ssha[iter,:,:].ravel())\n",
    "    #quad1.set_array(eddyfield[iter,:,:].ravel())\n",
    "    \n",
    "    #ax1.pcolormesh(lonm,latm,eddyfield[iter,:,:],shading='gouraud',cmap=cm.cm.balance,vmin=-40,vmax=40,alpha=1)\n",
    "    ax1.set_title('%03d'%(iter))\n",
    "    \n",
    "    #quad2.set_array(eddyfield[iter,:,:].ravel())\n",
    "    return\n",
    "\n",
    "gs.tight_layout(fig)\n",
    "\n",
    "anim2 = animation.FuncAnimation(fig,animate,frames=60,interval=100,blit=False,repeat=True)\n",
    "plt.close()\n",
    "anim2"
   ]
  },
  {
   "cell_type": "code",
   "execution_count": null,
   "metadata": {},
   "outputs": [],
   "source": []
  },
  {
   "cell_type": "markdown",
   "metadata": {},
   "source": [
    "# Default Values\n",
    "\n",
    "Eccentricity Fit = 1\n",
    "\n",
    "Ellipse Fit = 0\n",
    "\n",
    "Gauss Fit = 0"
   ]
  },
  {
   "cell_type": "code",
   "execution_count": null,
   "metadata": {},
   "outputs": [],
   "source": [
    "eddytd=analyseddyzt(eta,lon,lat,0,60,1,25,5,5,data_meant=ssh_mean,areamap=areamap,mask=''\\\n",
    "                    ,destdir='',physics='',eccenfit=1,ellipsrsquarefit=0,gaussrsquarefit=0,\\\n",
    "                    diagnostics=False,pprint=False)"
   ]
  },
  {
   "cell_type": "code",
   "execution_count": null,
   "metadata": {
    "scrolled": true
   },
   "outputs": [],
   "source": [
    "eddytdn=analyseddyzt(eta,lon,lat,0,60,1,-25,-5,-5,data_meant=ssh_mean,areamap=areamap,mask=''\\\n",
    "                    ,destdir='',physics='',eccenfit=1,ellipsrsquarefit=0,gaussrsquarefit=0,\\\n",
    "                    diagnostics=False,pprint=False)"
   ]
  },
  {
   "cell_type": "code",
   "execution_count": null,
   "metadata": {},
   "outputs": [],
   "source": [
    "threshold=1\n",
    "eddyp=reconstruct_syntetic(shape(eta),lon,lat,eddytd)\n",
    "eddyp[eddyp>=5]=np.nan\n",
    "eddyn=reconstruct_syntetic(shape(eta),lon,lat,eddytdn)\n",
    "eddyn[eddyn<=-5]=np.nan\n",
    "eddyfield=eddyp+eddyn"
   ]
  },
  {
   "cell_type": "code",
   "execution_count": null,
   "metadata": {},
   "outputs": [],
   "source": [
    "import matplotlib.pyplot as plt\n",
    "import numpy as np\n",
    "import matplotlib.gridspec as gridspec\n",
    "from matplotlib import animation, rc\n",
    "rc('animation', html='html5')\n",
    "\n",
    "###########\n",
    "\n",
    "fig = plt.figure(figsize=(10, 10),facecolor='white')\n",
    "gs = gridspec.GridSpec(1, 1)\n",
    "\n",
    "#############################\n",
    "\n",
    "ax1 = plt.subplot(gs[0,0])\n",
    "\n",
    "lonmm,latmm=np.meshgrid(lon,lat)\n",
    "\n",
    "map = Basemap(projection='ortho',lat_0=mean(lat),lon_0=mean(lon),resolution='c',ax=ax1)\n",
    "lonm,latm=map(lonmm,latmm)\n",
    "map.drawmeridians(np.arange(0,360,30),labels=[1,1,0,0],fontsize=10)\n",
    "map.drawparallels(np.arange(0,360,30),labels=[1,1,0,0],fontsize=10)\n",
    "map.fillcontinents(color='black',lake_color='black')\n",
    "map.drawcoastlines()\n",
    "map.drawcoastlines()\n",
    "\n",
    "#quad2 = ax1.pcolormesh(lonm,latm,eddyfield[0,:,:],shading='gouraud',cmap=cm.cm.balance,\\\n",
    "#              vmin=-40,vmax=40)\n",
    "\n",
    "\n",
    "def init():\n",
    "    quad1.set_array([])\n",
    "    quad2.set_array([])\n",
    "    return quad1,quad2\n",
    "\n",
    "def animate(iter):\n",
    "    #ax1.contourf(lonm,latm,ssha[0,:,:],shading='gouraud',cmap=cm.cm.balance,vmin=-40,vmax=40,alpha=0.1)\n",
    "    ax1.contourf(lonm,latm,ssha[iter,:,:],shading='gouraud',cmap=cm.cm.oxy,vmin=-40,vmax=40,alpha=0.5)\n",
    "    ax1.contourf(lonm,latm,eddyfield[iter,:,:],shading='gouraud',cmap=cm.cm.balance,\\\n",
    "              vmin=-40,vmax=40,alpha=0.9)\n",
    "    #quad2.set_array(ssha[iter,:,:].ravel())\n",
    "    #quad1.set_array(eddyfield[iter,:,:].ravel())\n",
    "    \n",
    "    #ax1.pcolormesh(lonm,latm,eddyfield[iter,:,:],shading='gouraud',cmap=cm.cm.balance,vmin=-40,vmax=40,alpha=1)\n",
    "    ax1.set_title('%03d'%(iter))\n",
    "    \n",
    "    #quad2.set_array(eddyfield[iter,:,:].ravel())\n",
    "    return\n",
    "\n",
    "gs.tight_layout(fig)\n",
    "\n",
    "anim2 = animation.FuncAnimation(fig,animate,frames=60,interval=100,blit=False,repeat=True)\n",
    "plt.close()\n",
    "anim2"
   ]
  },
  {
   "cell_type": "code",
   "execution_count": null,
   "metadata": {},
   "outputs": [],
   "source": []
  }
 ],
 "metadata": {
  "kernelspec": {
   "display_name": "Python [trackeddy]",
   "language": "python",
   "name": "track_env"
  },
  "language_info": {
   "codemirror_mode": {
    "name": "ipython",
    "version": 3
   },
   "file_extension": ".py",
   "mimetype": "text/x-python",
   "name": "python",
   "nbconvert_exporter": "python",
   "pygments_lexer": "ipython3",
   "version": "3.6.6"
  }
 },
 "nbformat": 4,
 "nbformat_minor": 2
}
