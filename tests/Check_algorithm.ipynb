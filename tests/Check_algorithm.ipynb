{
 "cells": [
  {
   "cell_type": "code",
   "execution_count": 2,
   "metadata": {},
   "outputs": [],
   "source": [
    "# Importing all libraries.\n",
    "from pylab import *\n",
    "from netCDF4 import Dataset\n",
    "%matplotlib inline\n",
    "import os\n",
    "import cmocean as cm\n",
    "from trackeddy.tracking import *\n",
    "from trackeddy.datastruct import *\n",
    "from trackeddy.geometryfunc import *\n",
    "from trackeddy.init import *\n",
    "from trackeddy.physics import *\n",
    "from trackeddy.plotfunc import *\n",
    "\n",
    "import matplotlib.pyplot as plt, mpld3\n",
    "\n",
    "#import cosima_cookbook as cc"
   ]
  },
  {
   "cell_type": "code",
   "execution_count": 3,
   "metadata": {},
   "outputs": [],
   "source": [
    "path_Frenger='/home/156/jm5970/gdata/eddies_database/'\n",
    "files=['anticyclones.nc','cyclones.nc']\n",
    "\n",
    "ncfile=Dataset(path_Frenger+files[0])\n",
    "#eta=ncfile.variables['eta_t'][:]"
   ]
  },
  {
   "cell_type": "code",
   "execution_count": 4,
   "metadata": {},
   "outputs": [
    {
     "data": {
      "text/plain": [
       "<class 'netCDF4._netCDF4.Dataset'>\n",
       "root group (NETCDF4_CLASSIC data model, file format HDF5):\n",
       "    dimensions(sizes): i(643440)\n",
       "    variables(dimensions): float64 \u001b[4mEddy_id\u001b[0m(i), float64 \u001b[4mEddy_tsp\u001b[0m(i), float64 \u001b[4mLon\u001b[0m(i), float64 \u001b[4mLat\u001b[0m(i), float64 \u001b[4mDia\u001b[0m(i), float64 \u001b[4mChl\u001b[0m(i), float64 \u001b[4mdChl\u001b[0m(i), float64 \u001b[4mChl_bg\u001b[0m(i), float64 \u001b[4mYear\u001b[0m(i), float64 \u001b[4mMonth\u001b[0m(i), float64 \u001b[4mDay\u001b[0m(i)\n",
       "    groups: "
      ]
     },
     "execution_count": 4,
     "metadata": {},
     "output_type": "execute_result"
    }
   ],
   "source": [
    "ncfile"
   ]
  },
  {
   "cell_type": "code",
   "execution_count": 5,
   "metadata": {},
   "outputs": [],
   "source": [
    "lon=ncfile.variables['Lon'][1]\n",
    "lat=ncfile.variables['Lat'][1]"
   ]
  },
  {
   "cell_type": "code",
   "execution_count": 12,
   "metadata": {},
   "outputs": [
    {
     "data": {
      "text/plain": [
       "Text(0.5,1,'1.0')"
      ]
     },
     "execution_count": 12,
     "metadata": {},
     "output_type": "execute_result"
    },
    {
     "data": {
      "image/png": "[encoded data removed]",
      "text/plain": [
       "<matplotlib.figure.Figure at 0x7efe76799dd8>"
      ]
     },
     "metadata": {},
     "output_type": "display_data"
    }
   ],
   "source": [
    "plot(lon,lat,'*')\n",
    "title(ncfile.variables['Eddy_id'][1])"
   ]
  },
  {
   "cell_type": "code",
   "execution_count": 31,
   "metadata": {},
   "outputs": [
    {
     "name": "stdout",
     "output_type": "stream",
     "text": [
      "2.0\n",
      "4.0\n"
     ]
    }
   ],
   "source": [
    "print(ncfile.variables['Eddy_id'][8])\n",
    "print(ncfile.variables['Eddy_tsp'][8])"
   ]
  },
  {
   "cell_type": "code",
   "execution_count": null,
   "metadata": {},
   "outputs": [],
   "source": []
  }
 ],
 "metadata": {
  "kernelspec": {
   "display_name": "Python [trackeddy]",
   "language": "python",
   "name": "track_env"
  }
 },
 "nbformat": 4,
 "nbformat_minor": 2
}
