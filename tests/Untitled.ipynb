{
 "cells": [
  {
   "cell_type": "code",
   "execution_count": 1,
   "metadata": {},
   "outputs": [],
   "source": [
    "# Importing all libraries.\n",
    "from pylab import *\n",
    "from netCDF4 import Dataset\n",
    "%matplotlib inline\n",
    "import os\n",
    "import cmocean as cm\n",
    "from trackeddy.tracking import *\n",
    "from trackeddy.datastruct import *\n",
    "from trackeddy.geometryfunc import *\n",
    "from trackeddy.init import *\n",
    "from trackeddy.physics import *\n",
    "from trackeddy.plotfunc import *\n",
    "\n",
    "import matplotlib.pyplot as plt, mpld3\n",
    "\n",
    "#import cosima_cookbook as cc"
   ]
  },
  {
   "cell_type": "code",
   "execution_count": 15,
   "metadata": {},
   "outputs": [],
   "source": [
    "path_Frenger='/home/156/jm5970/gdata/eddies_database/'\n",
    "files=['anticyclones.nc','cyclones.nc']\n",
    "\n",
    "ncfile=Dataset(path_Frenger+files[0])\n",
    "#eta=ncfile.variables['eta_t'][:]"
   ]
  },
  {
   "cell_type": "code",
   "execution_count": 16,
   "metadata": {},
   "outputs": [
    {
     "data": {
      "text/plain": [
       "<class 'netCDF4._netCDF4.Dataset'>\n",
       "root group (NETCDF4_CLASSIC data model, file format HDF5):\n",
       "    dimensions(sizes): i(643440)\n",
       "    variables(dimensions): float64 \u001b[4mEddy_id\u001b[0m(i), float64 \u001b[4mEddy_tsp\u001b[0m(i), float64 \u001b[4mLon\u001b[0m(i), float64 \u001b[4mLat\u001b[0m(i), float64 \u001b[4mDia\u001b[0m(i), float64 \u001b[4mChl\u001b[0m(i), float64 \u001b[4mdChl\u001b[0m(i), float64 \u001b[4mChl_bg\u001b[0m(i), float64 \u001b[4mYear\u001b[0m(i), float64 \u001b[4mMonth\u001b[0m(i), float64 \u001b[4mDay\u001b[0m(i)\n",
       "    groups: "
      ]
     },
     "execution_count": 16,
     "metadata": {},
     "output_type": "execute_result"
    }
   ],
   "source": [
    "ncfile"
   ]
  },
  {
   "cell_type": "code",
   "execution_count": 24,
   "metadata": {},
   "outputs": [],
   "source": [
    "lon=ncfile.variables['Lon'][:]\n",
    "lat=ncfile.variables['Lat'][:]"
   ]
  },
  {
   "cell_type": "code",
   "execution_count": 25,
   "metadata": {},
   "outputs": [
    {
     "data": {
      "text/plain": [
       "[<matplotlib.lines.Line2D at 0x7fc463782438>]"
      ]
     },
     "execution_count": 25,
     "metadata": {},
     "output_type": "execute_result"
    },
    {
     "data": {
      "image/png": "[encoded data removed]",
      "text/plain": [
       "<matplotlib.figure.Figure at 0x7fc46387d4e0>"
      ]
     },
     "metadata": {},
     "output_type": "display_data"
    }
   ],
   "source": [
    "plot(lon,lat)"
   ]
  },
  {
   "cell_type": "code",
   "execution_count": null,
   "metadata": {},
   "outputs": [],
   "source": []
  }
 ],
 "metadata": {
  "kernelspec": {
   "display_name": "Python [trackeddy]",
   "language": "python",
   "name": "track_env"
  },
  "language_info": {
   "codemirror_mode": {
    "name": "ipython",
    "version": 3
   },
   "file_extension": ".py",
   "mimetype": "text/x-python",
   "name": "python",
   "nbconvert_exporter": "python",
   "pygments_lexer": "ipython3",
   "version": "3.6.6"
  }
 },
 "nbformat": 4,
 "nbformat_minor": 2
}
