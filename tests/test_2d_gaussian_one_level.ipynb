{
 "cells": [
  {
   "cell_type": "code",
   "execution_count": null,
   "metadata": {},
   "outputs": [],
   "source": [
    "import sys\n",
    "from netCDF4 import Dataset\n",
    "import os\n",
    "import cmocean as cm\n",
    "from trackeddy.tracking import *\n",
    "from trackeddy.datastruct import *\n",
    "from trackeddy.geometryfunc import *\n",
    "from trackeddy.init import *\n",
    "from trackeddy.physics import *\n",
    "#from trackeddy.plotfunc import *\n",
    "from numpy import *\n",
    "from pylab import *\n",
    "import cmocean as cm\n",
    "import random\n",
    "%matplotlib inline\n",
    "import scipy.optimize as opt"
   ]
  },
  {
   "cell_type": "code",
   "execution_count": null,
   "metadata": {
    "collapsed": true
   },
   "outputs": [],
   "source": [
    "def makeGaussian(size, fwhm = 3, center=None):\n",
    "    \"\"\" Make a square gaussian kernel.\n",
    "\n",
    "    size is the length of a side of the square\n",
    "    fwhm is full-width-half-maximum, which\n",
    "    can be thought of as an effective radius.\n",
    "    \"\"\"\n",
    "\n",
    "    x = np.arange(0, size, 1, float)\n",
    "    y = x[:,np.newaxis]\n",
    "\n",
    "    if center is None:\n",
    "        x0 = y0 = size // 2\n",
    "    else:\n",
    "        x0 = center[0]\n",
    "        y0 = center[1]\n",
    "\n",
    "    return np.exp(-4*np.log(2) * ((x-x0)**2 + (y-y0)**2) / fwhm**2)\n",
    "\n",
    "def moveGaussian(size,fwhm,center,timestep):\n",
    "    z=zeros([timestep,size,size])\n",
    "    for tt in range(0,timestep):\n",
    "        z[tt,:,:]=makeGaussian(size, fwhm, (center[tt,0],center[tt,1]))\n",
    "    return z"
   ]
  },
  {
   "cell_type": "code",
   "execution_count": null,
   "metadata": {
    "collapsed": true
   },
   "outputs": [],
   "source": [
    "x,y=linspace(-10,10,50),linspace(-10,10,50)\n",
    "X,Y=meshgrid(x,y)\n",
    "# Gaussian:\n",
    "gaussian=twoD_Gaussian((X,Y,1,0,0),  2.5, 2.5, 0, 0, 0 , 0)\n",
    "zz=gaussian.reshape(50,50)\n",
    "# Checking fitting:\n",
    "gausssianfitp,R2=fit2Dcurve(zz,(x,y,0.5,1,0),0,initial_guess='',\\\n",
    "                                date='',diagnostics=False)\n",
    "gaussianfit=twoD_Gaussian((X,Y,1,0,0),*gausssianfitp)"
   ]
  },
  {
   "cell_type": "code",
   "execution_count": null,
   "metadata": {},
   "outputs": [],
   "source": [
    "gausssianfitp"
   ]
  },
  {
   "cell_type": "code",
   "execution_count": null,
   "metadata": {},
   "outputs": [],
   "source": [
    "contourf(x,y,zz[:,:])\n",
    "colorbar()\n",
    "figure()\n",
    "contourf(x,y,gaussianfit.reshape(50,50),alpha=0.5)\n",
    "colorbar()\n",
    "print(abs(sum(zz)-sum(gausssianfitp)))"
   ]
  },
  {
   "cell_type": "markdown",
   "metadata": {},
   "source": [
    "# Flat Background "
   ]
  },
  {
   "cell_type": "code",
   "execution_count": null,
   "metadata": {},
   "outputs": [],
   "source": [
    "zz=moveGaussian(600,70,array([[x,x*0+150] for x in linspace(100,400,40)]),40)+\\\n",
    "    moveGaussian(600,50,array([[x,x*0+350] for x in linspace(100,400,40)]),40)-\\\n",
    "    moveGaussian(600,50,array([[500-x,x*0+250] for x in linspace(100,400,40)]),40)-\\\n",
    "    moveGaussian(600,100,array([[500-x,x*0+450] for x in linspace(100,400,40)]),40)\n",
    "    \n",
    "lat=linspace(0,10,600)\n",
    "lon=linspace(0,10,600)\n",
    "pcolormesh(zz[0,:,:])\n",
    "colorbar()"
   ]
  },
  {
   "cell_type": "code",
   "execution_count": null,
   "metadata": {
    "scrolled": true
   },
   "outputs": [],
   "source": [
    "eddytdp=analyseddyt(zz[:,:,:],lon,lat,0.2,0,40,1,data_meant='',areamap='',mask=''\\\n",
    "                     ,destdir='',physics='',checkgauss=True,diagnostics=False,pprint=False)\n",
    "eddytdn=analyseddyt(zz[:,:,:],lon,lat,-0.2,0,40,1,data_meant='',areamap='',mask=''\\\n",
    "                     ,destdir='',physics='',checkgauss=True,diagnostics=False,pprint=False)"
   ]
  },
  {
   "cell_type": "code",
   "execution_count": null,
   "metadata": {
    "collapsed": true
   },
   "outputs": [],
   "source": [
    "fieldSp=reconstruct_syntetic(shape(zz),lon,lat,eddytdp)\n",
    "fieldSn=reconstruct_syntetic(shape(zz),lon,lat,eddytdn)\n",
    "fieldS=fieldSp+fieldSn"
   ]
  },
  {
   "cell_type": "code",
   "execution_count": null,
   "metadata": {
    "collapsed": true
   },
   "outputs": [],
   "source": [
    "import matplotlib.pyplot as plt\n",
    "import numpy as np\n",
    "import matplotlib.gridspec as gridspec\n",
    "import matplotlib.animation as animation\n",
    "from matplotlib import rc\n",
    "rc('animation', html='html5')\n",
    "############################\n",
    "#Create the figure\n",
    "\n",
    "rtext=[]\n",
    "for ii in range(0,40):\n",
    "    rtext.append(rsquard(sum(zz[ii,:,:],axis=1),sum(fieldS[ii,:,:],axis=1)))\n",
    "\n",
    "fig = plt.figure(figsize=(12, 3),facecolor='white')\n",
    "gs = gridspec.GridSpec(1, 4)\n",
    "\n",
    "#############################\n",
    "\n",
    "ax1 = plt.subplot(gs[0,0])\n",
    "\n",
    "quad1 = ax1.pcolormesh(lon,lat,fieldS[0,:,:],shading='gouraud',cmap=cm.cm.balance,vmin=-1,vmax=1)\n",
    "\n",
    "ax2 = plt.subplot(gs[0,1])\n",
    "\n",
    "quad2 = ax2.pcolormesh(lon,lat,zz[0,:,:],shading='gouraud',cmap=cm.cm.balance,vmin=-1,vmax=1)\n",
    "cb2 = fig.colorbar(quad2,ax=ax2)\n",
    "\n",
    "ax3 = plt.subplot(gs[0,2])\n",
    "\n",
    "quad3 = ax3.pcolormesh(lon,lat,zz[0,:,:]-fieldS[0,:,:],shading='gouraud',cmap=cm.cm.balance,vmin=-1,vmax=1)\n",
    "cb3 = fig.colorbar(quad3,ax=ax3)\n",
    "\n",
    "ax4=plt.subplot(gs[0,3])\n",
    "\n",
    "line4a, =ax4.plot(lat,sum(zz[0,:,:],axis=1),'-r')\n",
    "line4b, =ax4.plot(lat,sum(fieldS[0,:,:],axis=1),'-b')\n",
    "text4 = ax4.text(mean(lat),100,'')\n",
    "ax4.set_ylim([-150,150])\n",
    "\n",
    "##############################\n",
    "\n",
    "##############################\n",
    "#Intitial stage blank\n",
    "def init():\n",
    "    quad1.set_array([])\n",
    "    quad2.set_array([])\n",
    "    quad3.set_array([])\n",
    "    line4a.set_data([], [])\n",
    "    line4b.set_data([], [])\n",
    "    text4.set_text('')\n",
    "    return quad1,quad2,quad3,line4a,line4b,text4\n",
    "##############################\n",
    "\n",
    "##############################\n",
    "#Animation function, replace the values of the eke in a '1d list'\n",
    "def animate(iter):\n",
    "    quad1.set_array(fieldS[iter,:,:].ravel())\n",
    "    quad2.set_array(zz[iter,:,:].ravel())\n",
    "    quad3.set_array(zz[iter,:,:].ravel()-fieldS[iter,:,:].ravel())\n",
    "    line4a.set_data(lat,sum(zz[iter,:,:],axis=1))\n",
    "    line4b.set_data(lat,sum(fieldS[iter,:,:],axis=1))\n",
    "    text4.set_text(r'r^2 = %.2f' % rtext[iter])\n",
    "    return quad1,quad2,quad3,line4a,line4b\n",
    "##############################\n",
    "\n",
    "##############################\n",
    "#Remove edges\n",
    "gs.tight_layout(fig)\n",
    "##############################\n",
    "\n",
    "##############################\n",
    "#Animation structure\n",
    "anim2 = animation.FuncAnimation(fig,animate,frames=40,interval=1000,blit=False,repeat=True)\n",
    "##############################\n",
    "plt.close()\n",
    "##############################\n",
    "#Display and convert animation to html5\n",
    "anim2"
   ]
  },
  {
   "cell_type": "code",
   "execution_count": null,
   "metadata": {
    "collapsed": true,
    "scrolled": false
   },
   "outputs": [],
   "source": [
    "plot(sum(fieldS[20,:,:],axis=1),'-r')\n",
    "plot(sum(zz[20,:,:],axis=1),'-b')"
   ]
  },
  {
   "cell_type": "markdown",
   "metadata": {},
   "source": [
    "# Background slope"
   ]
  },
  {
   "cell_type": "code",
   "execution_count": null,
   "metadata": {
    "collapsed": true
   },
   "outputs": [],
   "source": [
    "zz1=ones([600,600])*linspace(0.2,0,600)\n",
    "zzz=moveGaussian(600,70,array([[x,x*0+150] for x in linspace(100,400,40)]),40)+\\\n",
    "    moveGaussian(600,50,array([[x,x*0+350] for x in linspace(100,400,40)]),40)-\\\n",
    "    moveGaussian(600,50,array([[500-x,x*0+250] for x in linspace(100,400,40)]),40)-\\\n",
    "    moveGaussian(600,100,array([[500-x,x*0+450] for x in linspace(100,400,40)]),40)\n",
    "zz=zz1+zzz\n",
    "\n",
    "lat=linspace(0,10,600)\n",
    "lon=linspace(0,10,600)\n",
    "pcolormesh(zz[0,:,:])"
   ]
  },
  {
   "cell_type": "code",
   "execution_count": null,
   "metadata": {
    "collapsed": true,
    "scrolled": true
   },
   "outputs": [],
   "source": [
    "eddytdp=analyseddyt(zz[:,:,:],lon,lat,0.25,0,40,1,data_meant='',areamap='',mask=''\\\n",
    "                     ,destdir='',physics='',checkgauss=True,diagnostics=False,pprint=False)\n",
    "eddytdn=analyseddyt(zz[:,:,:],lon,lat,-0.25,0,40,1,data_meant='',areamap='',mask=''\\\n",
    "                     ,destdir='',physics='',checkgauss=True,diagnostics=False,pprint=False)"
   ]
  },
  {
   "cell_type": "code",
   "execution_count": null,
   "metadata": {
    "collapsed": true
   },
   "outputs": [],
   "source": [
    "fieldSp=reconstruct_syntetic(shape(zz),lon,lat,eddytdp)\n",
    "fieldSn=reconstruct_syntetic(shape(zz),lon,lat,eddytdn)\n",
    "fieldS=fieldSp+fieldSn"
   ]
  },
  {
   "cell_type": "code",
   "execution_count": null,
   "metadata": {
    "collapsed": true
   },
   "outputs": [],
   "source": [
    "pcolormesh(zz[0,:,:]-zz1)\n",
    "colorbar()\n",
    "show()\n",
    "pcolormesh(fieldS[0,:,:])\n",
    "colorbar()\n",
    "show()\n",
    "pcolormesh(zz[0,:,:]-zz1-fieldS[0,:,:])\n",
    "colorbar()"
   ]
  },
  {
   "cell_type": "code",
   "execution_count": null,
   "metadata": {
    "collapsed": true
   },
   "outputs": [],
   "source": [
    "import matplotlib.pyplot as plt\n",
    "import numpy as np\n",
    "import matplotlib.gridspec as gridspec\n",
    "import matplotlib.animation as animation\n",
    "from matplotlib import rc\n",
    "rc('animation', html='html5')\n",
    "############################\n",
    "#Create the figure\n",
    "\n",
    "rtext=[]\n",
    "for ii in range(0,40):\n",
    "    rtext.append(rsquard(sum(zzz[ii,:,:],axis=1),sum(fieldS[ii,:,:],axis=1)))\n",
    "\n",
    "fig = plt.figure(figsize=(12, 3),facecolor='white')\n",
    "gs = gridspec.GridSpec(1, 4)\n",
    "\n",
    "#############################\n",
    "\n",
    "ax1 = plt.subplot(gs[0,0])\n",
    "\n",
    "quad1 = ax1.pcolormesh(lon,lat,fieldS[0,:,:],shading='gouraud',cmap=cm.cm.balance,vmin=-1,vmax=1)\n",
    "\n",
    "ax2 = plt.subplot(gs[0,1])\n",
    "\n",
    "quad2 = ax2.pcolormesh(lon,lat,zzz[0,:,:],shading='gouraud',cmap=cm.cm.balance,vmin=-1,vmax=1)\n",
    "cb2 = fig.colorbar(quad2,ax=ax2)\n",
    "\n",
    "ax3 = plt.subplot(gs[0,2])\n",
    "\n",
    "quad3 = ax3.pcolormesh(lon,lat,zzz[0,:,:]-fieldS[0,:,:],shading='gouraud',cmap=cm.cm.balance,vmin=-0.1,vmax=0.1)\n",
    "cb3 = fig.colorbar(quad3,ax=ax3)\n",
    "\n",
    "ax4=plt.subplot(gs[0,3])\n",
    "\n",
    "line4a, =ax4.plot(lat,sum(zzz[0,:,:],axis=1),'-r')\n",
    "line4b, =ax4.plot(lat,sum(fieldS[0,:,:],axis=1),'-b')\n",
    "text4 = ax4.text(mean(lat),100,'')\n",
    "ax4.set_ylim([-150,150])\n",
    "\n",
    "##############################\n",
    "\n",
    "##############################\n",
    "#Intitial stage blank\n",
    "def init():\n",
    "    quad1.set_array([])\n",
    "    quad2.set_array([])\n",
    "    quad3.set_array([])\n",
    "    line4a.set_data([], [])\n",
    "    line4b.set_data([], [])\n",
    "    text4.set_text('')\n",
    "    return quad1,quad2,quad3,line4a,line4b,text4\n",
    "##############################\n",
    "\n",
    "##############################\n",
    "#Animation function, replace the values of the eke in a '1d list'\n",
    "def animate(iter):\n",
    "    quad1.set_array(fieldS[iter,:,:].ravel())\n",
    "    quad2.set_array(zzz[iter,:,:].ravel())\n",
    "    quad3.set_array(zzz[iter,:,:].ravel()-fieldS[iter,:,:].ravel())\n",
    "    line4a.set_data(lat,sum(zzz[iter,:,:],axis=1))\n",
    "    line4b.set_data(lat,sum(fieldS[iter,:,:],axis=1))\n",
    "    text4.set_text(r'r^2 = %.2f' % rtext[iter])\n",
    "    return quad1,quad2,quad3,line4a,line4b\n",
    "##############################\n",
    "\n",
    "##############################\n",
    "#Remove edges\n",
    "gs.tight_layout(fig)\n",
    "##############################\n",
    "\n",
    "##############################\n",
    "#Animation structure\n",
    "anim2 = animation.FuncAnimation(fig,animate,frames=40,interval=1000,blit=False,repeat=True)\n",
    "##############################\n",
    "plt.close()\n",
    "##############################\n",
    "#Display and convert animation to html5\n",
    "anim2"
   ]
  },
  {
   "cell_type": "markdown",
   "metadata": {},
   "source": [
    "# Simple Sinusoidal Background"
   ]
  },
  {
   "cell_type": "code",
   "execution_count": null,
   "metadata": {
    "collapsed": true
   },
   "outputs": [],
   "source": [
    "zz1=ones([600,600])*0.2*sin(linspace(1,4*pi,600))\n",
    "zzz=moveGaussian(600,70,array([[x,x*0+150] for x in linspace(100,400,40)]),40)+\\\n",
    "    moveGaussian(600,50,array([[x,x*0+350] for x in linspace(100,400,40)]),40)-\\\n",
    "    moveGaussian(600,50,array([[500-x,x*0+250] for x in linspace(100,400,40)]),40)-\\\n",
    "    moveGaussian(600,100,array([[500-x,x*0+450] for x in linspace(100,400,40)]),40)\n",
    "zz=zz1+zzz\n",
    "\n",
    "lat=linspace(0,10,600)\n",
    "lon=linspace(0,10,600)\n",
    "pcolormesh(zz[0,:,:])"
   ]
  },
  {
   "cell_type": "code",
   "execution_count": null,
   "metadata": {
    "collapsed": true,
    "scrolled": true
   },
   "outputs": [],
   "source": [
    "eddytdp=analyseddyt(zz[:,:,:],lon,lat,0.3,0,40,1,data_meant='',areamap='',mask=''\\\n",
    "                     ,destdir='',physics='',checkgauss=True,diagnostics=False,pprint=False)\n",
    "eddytdn=analyseddyt(zz[:,:,:],lon,lat,-0.3,0,40,1,data_meant='',areamap='',mask=''\\\n",
    "                     ,destdir='',physics='',gaussrsquarefit=0,\\\n",
    "                    checkgauss=True,diagnostics=False,pprint=False)"
   ]
  },
  {
   "cell_type": "code",
   "execution_count": null,
   "metadata": {
    "collapsed": true
   },
   "outputs": [],
   "source": [
    "fieldSp=reconstruct_syntetic(shape(zz),lon,lat,eddytdp)\n",
    "fieldSn=reconstruct_syntetic(shape(zz),lon,lat,eddytdn)\n",
    "fieldS=fieldSp+fieldSn"
   ]
  },
  {
   "cell_type": "code",
   "execution_count": null,
   "metadata": {
    "collapsed": true
   },
   "outputs": [],
   "source": [
    "import matplotlib.pyplot as plt\n",
    "import numpy as np\n",
    "import matplotlib.gridspec as gridspec\n",
    "import matplotlib.animation as animation\n",
    "from matplotlib import rc\n",
    "rc('animation', html='html5')\n",
    "############################\n",
    "#Create the figure\n",
    "\n",
    "rtext=[]\n",
    "for ii in range(0,40):\n",
    "    rtext.append(rsquard(sum(zzz[ii,:,:],axis=1),sum(fieldS[ii,:,:],axis=1)))\n",
    "\n",
    "fig = plt.figure(figsize=(12, 3),facecolor='white')\n",
    "gs = gridspec.GridSpec(1, 4)\n",
    "\n",
    "#############################\n",
    "\n",
    "ax1 = plt.subplot(gs[0,0])\n",
    "\n",
    "quad1 = ax1.pcolormesh(lon,lat,fieldS[0,:,:],shading='gouraud',cmap=cm.cm.balance,vmin=-1,vmax=1)\n",
    "\n",
    "ax2 = plt.subplot(gs[0,1])\n",
    "\n",
    "quad2 = ax2.pcolormesh(lon,lat,zzz[0,:,:],shading='gouraud',cmap=cm.cm.balance,vmin=-1,vmax=1)\n",
    "cb2 = fig.colorbar(quad2,ax=ax2)\n",
    "\n",
    "ax3 = plt.subplot(gs[0,2])\n",
    "\n",
    "quad3 = ax3.pcolormesh(lon,lat,zzz[0,:,:]-fieldS[0,:,:],shading='gouraud',cmap=cm.cm.balance)\n",
    "cb3 = fig.colorbar(quad3,ax=ax3)\n",
    "\n",
    "ax4=plt.subplot(gs[0,3])\n",
    "\n",
    "line4a, =ax4.plot(lat,sum(zzz[0,:,:],axis=1),'-r')\n",
    "line4b, =ax4.plot(lat,sum(fieldS[0,:,:],axis=1),'-b')\n",
    "text4 = ax4.text(mean(lat),100,'')\n",
    "ax4.set_ylim([-150,150])\n",
    "\n",
    "##############################\n",
    "\n",
    "##############################\n",
    "#Intitial stage blank\n",
    "def init():\n",
    "    quad1.set_array([])\n",
    "    quad2.set_array([])\n",
    "    quad3.set_array([])\n",
    "    line4a.set_data([], [])\n",
    "    line4b.set_data([], [])\n",
    "    text4.set_text('')\n",
    "    return quad1,quad2,quad3,line4a,line4b,text4\n",
    "##############################\n",
    "\n",
    "##############################\n",
    "#Animation function, replace the values of the eke in a '1d list'\n",
    "def animate(iter):\n",
    "    quad1.set_array(fieldS[iter,:,:].ravel())\n",
    "    quad2.set_array(zzz[iter,:,:].ravel())\n",
    "    quad3.set_array(zzz[iter,:,:].ravel()-fieldS[iter,:,:].ravel())\n",
    "    line4a.set_data(lat,sum(zzz[iter,:,:],axis=1))\n",
    "    line4b.set_data(lat,sum(fieldS[iter,:,:],axis=1))\n",
    "    text4.set_text(r'r^2 = %.2f' % rtext[iter])\n",
    "    return quad1,quad2,quad3,line4a,line4b\n",
    "##############################\n",
    "\n",
    "##############################\n",
    "#Remove edges\n",
    "gs.tight_layout(fig)\n",
    "##############################\n",
    "\n",
    "##############################\n",
    "#Animation structure\n",
    "anim2 = animation.FuncAnimation(fig,animate,frames=40,interval=1000,blit=False,repeat=True)\n",
    "##############################\n",
    "plt.close()\n",
    "##############################\n",
    "#Display and convert animation to html5\n",
    "anim2"
   ]
  },
  {
   "cell_type": "code",
   "execution_count": null,
   "metadata": {
    "collapsed": true,
    "scrolled": true
   },
   "outputs": [],
   "source": [
    "from random import randrange, uniform\n",
    "\n",
    "def moveGaussian(size,fwhm,center,timestep):\n",
    "    z=zeros([timestep,size,size])\n",
    "    for tt in range(0,timestep):\n",
    "        z[tt,:,:]=makeGaussian(size, fwhm, (center[tt,0],center[tt,1]))\n",
    "    return z\n",
    "\n",
    "def RandGaussian(size,time,nn):\n",
    "    zz=zeros([time,size,size])\n",
    "    zz1=zz*1\n",
    "    ii=0\n",
    "    while ii < nn:\n",
    "        xx=(randrange(0, 100)/100.0)*size\n",
    "        xxx=(randrange(0, 100)/100.0)*size\n",
    "        yyy=(randrange(0, 100)/100.0)*size\n",
    "        if xx > size/8 and xx < size/4:\n",
    "            center=array([[xxx,yyy+x] for x in linspace(size*0.1,size*0.9,time)])\n",
    "            #print(center)\n",
    "            for tt in range(0,time):\n",
    "                zz1[tt,:,:]=makeGaussian(size, xx,(center[tt,0],center[tt,1]))\n",
    "            zz=zz+zz1\n",
    "            ii=ii+1\n",
    "    return zz"
   ]
  },
  {
   "cell_type": "code",
   "execution_count": null,
   "metadata": {
    "collapsed": true
   },
   "outputs": [],
   "source": [
    "size=600\n",
    "time=40\n",
    "zzn=-RandGaussian(size,time,10)\n",
    "zzp=RandGaussian(size,time,10)\n",
    "\n",
    "zz=zzn+zzp\n",
    "\n",
    "lat=linspace(0,10,600)\n",
    "lon=linspace(0,10,600)\n",
    "\n",
    "pcolormesh(lon,lat,zz[0,:,:])\n",
    "colorbar()"
   ]
  },
  {
   "cell_type": "code",
   "execution_count": null,
   "metadata": {
    "collapsed": true,
    "scrolled": true
   },
   "outputs": [],
   "source": [
    "eddytdp=analyseddyt(zz[:,:,:],lon,lat,0.8,0,1,1,data_meant='',areamap='',mask=''\\\n",
    "                     ,destdir='',physics='',checkgauss=True,diagnostics=False,pprint=False)\n",
    "eddytdn=analyseddyt(zz[:,:,:],lon,lat,-0.8,0,1,1,data_meant='',areamap='',mask=''\\\n",
    "                     ,destdir='',physics='',checkgauss=True,diagnostics=False,pprint=False)"
   ]
  },
  {
   "cell_type": "code",
   "execution_count": null,
   "metadata": {
    "collapsed": true
   },
   "outputs": [],
   "source": [
    "def reconstruct_syntetic(varshape,lon,lat,eddytd):\n",
    "    Lon,Lat=meshgrid(lon,lat)\n",
    "    fieldfit=np.zeros(varshape)\n",
    "    for key in eddytd.keys():\n",
    "        for tt in range(0,len(eddytd[key]['2dgaussianfit'])):\n",
    "            gaussfit=eddytd[key]['2dgaussianfit'][tt]\n",
    "            gaussian=twoD_Gaussian((Lon,Lat,eddytd[key]['position_maxvalue'][0][2],\\\n",
    "                         eddytd[key]['position_maxvalue'][0][0],\\\n",
    "                         eddytd[key]['position_maxvalue'][0][1]), *gaussfit)\n",
    "            fieldfit[tt,:,:]=fieldfit[tt,:,:]+gaussian.reshape(len(lat),len(lon))\n",
    "    return fieldfit"
   ]
  },
  {
   "cell_type": "code",
   "execution_count": null,
   "metadata": {
    "collapsed": true
   },
   "outputs": [],
   "source": [
    "Lon,Lat=meshgrid(lon,lat)\n",
    "gaussfit=eddytdp['eddyn_1']['2dgaussianfit'][0]\n",
    "print(gaussfit)\n",
    "gaussian=twoD_Gaussian((Lon,Lat,eddytdp['eddyn_1']['position_maxvalue'][0][2],\\\n",
    "                         eddytdp['eddyn_1']['position_maxvalue'][0][0],\\\n",
    "                         eddytdp['eddyn_1']['position_maxvalue'][0][1]),*gaussfit)\n",
    "pcolormesh(lon,lat,gaussian.reshape(600,600))"
   ]
  },
  {
   "cell_type": "code",
   "execution_count": null,
   "metadata": {
    "collapsed": true
   },
   "outputs": [],
   "source": [
    "sfield=reconstruct_syntetic(shape(zz),lon,lat,eddytdp)\n",
    "nfield=reconstruct_syntetic(shape(zz),lon,lat,eddytdn)\n",
    "\n",
    "pcolormesh(lon,lat,sfield[0,:,:]+nfield[0,:,:])\n",
    "colorbar()\n",
    "figure()\n",
    "pcolormesh(lon,lat,zz[0,:,:])\n",
    "colorbar()"
   ]
  },
  {
   "cell_type": "markdown",
   "metadata": {},
   "source": [
    "# Random Walker"
   ]
  },
  {
   "cell_type": "code",
   "execution_count": 1,
   "metadata": {
    "collapsed": true
   },
   "outputs": [],
   "source": [
    "import sys\n",
    "from netCDF4 import Dataset\n",
    "import os\n",
    "import cmocean as cm\n",
    "from trackeddy.tracking import *\n",
    "from trackeddy.datastruct import *\n",
    "from trackeddy.geometryfunc import *\n",
    "from trackeddy.init import *\n",
    "from trackeddy.physics import *\n",
    "#from trackeddy.plotfunc import *\n",
    "from numpy import *\n",
    "from pylab import *\n",
    "import cmocean as cm\n",
    "import random\n",
    "%matplotlib inline\n",
    "import scipy.optimize as opt"
   ]
  },
  {
   "cell_type": "code",
   "execution_count": 2,
   "metadata": {
    "collapsed": true
   },
   "outputs": [],
   "source": [
    "def go_right(indexs,step):\n",
    "    return [0,step]\n",
    "    \n",
    "def go_upright(indexs,step):\n",
    "    return [step,step]\n",
    "    \n",
    "def go_up(indexs,step):\n",
    "    return [step,0]\n",
    "\n",
    "def go_upleft(indexs,step):\n",
    "    return [step,-step]\n",
    "    \n",
    "def go_left(indexs,step):\n",
    "    return [0,-step]\n",
    "\n",
    "def go_downleft(indexs,step):\n",
    "    return [-step,-step]\n",
    "    \n",
    "def go_down(indexs,step):\n",
    "    return [-step,0]\n",
    "\n",
    "def go_downright(indexs,step):\n",
    "    return [-step,step]"
   ]
  },
  {
   "cell_type": "code",
   "execution_count": 3,
   "metadata": {
    "collapsed": true
   },
   "outputs": [],
   "source": [
    "from random import randrange, uniform\n",
    "import numpy as np\n",
    "\n",
    "def makeGaussian(size, fwhm = 3, center=None):\n",
    "    \"\"\" Make a square gaussian kernel.\n",
    "\n",
    "    size is the length of a side of the square\n",
    "    fwhm is full-width-half-maximum, which\n",
    "    can be thought of as an effective radius.\n",
    "    \"\"\"\n",
    "\n",
    "    x = np.arange(0, size, 1, float)\n",
    "    y = x[:,np.newaxis]\n",
    "\n",
    "    if center is None:\n",
    "        x0 = y0 = size // 2\n",
    "    else:\n",
    "        x0 = center[0]\n",
    "        y0 = center[1]\n",
    "\n",
    "    return np.exp(-4*np.log(2) * ((x-x0)**2 + (y-y0)**2) / fwhm**2)\n",
    "\n",
    "def moveGaussian(size,fwhm,center,timestep):\n",
    "    z=np.zeros([timestep,size,size])\n",
    "    for tt in range(0,timestep):\n",
    "        z[tt,:,:]=makeGaussian(size, fwhm, (center[tt,0],center[tt,1]))\n",
    "    return z\n",
    "\n",
    "def RandGaussian(size,time,nn):\n",
    "    zz=np.zeros([time,size,size])\n",
    "    zz1=zz*1\n",
    "    ii=0\n",
    "    while ii < nn:\n",
    "        xx=(randrange(0, 100)/100.0)*size\n",
    "        xxx=(randrange(0, 100)/100.0)*size\n",
    "        yyy=(randrange(0, 100)/100.0)*size\n",
    "        if xx > size/8 and xx < size/4:\n",
    "            center=array([[xxx,yyy+x] for x in linspace(size*0.1,size*0.9,time)])\n",
    "            #print(center)\n",
    "            for tt in range(0,time):\n",
    "                zz1[tt,:,:]=makeGaussian(size, xx,(center[tt,0],center[tt,1]))\n",
    "            zz=zz+zz1\n",
    "            ii=ii+1\n",
    "    return zz"
   ]
  },
  {
   "cell_type": "code",
   "execution_count": 4,
   "metadata": {},
   "outputs": [],
   "source": [
    "size=600\n",
    "time=1\n",
    "zzn=-RandGaussian(size,time,10)\n",
    "zzp=RandGaussian(size,time,10)"
   ]
  },
  {
   "cell_type": "code",
   "execution_count": 5,
   "metadata": {},
   "outputs": [
    {
     "data": {
      "text/plain": [
       "<matplotlib.collections.QuadMesh at 0x10b9f8898>"
      ]
     },
     "execution_count": 5,
     "metadata": {},
     "output_type": "execute_result"
    },
    {
     "data": {
      "image/png": "[encoded data removed]",
      "text/plain": [
       "<matplotlib.figure.Figure at 0x10af833c8>"
      ]
     },
     "metadata": {},
     "output_type": "display_data"
    }
   ],
   "source": [
    "plt.pcolormesh(zzn[0,:,:])"
   ]
  },
  {
   "cell_type": "code",
   "execution_count": 6,
   "metadata": {
    "collapsed": true
   },
   "outputs": [],
   "source": [
    "x=linspace(0,1,100)\n",
    "y=linspace(0,1,100)\n",
    "X,Y=meshgrid(x,y)\n",
    "gauss=twoD_Gaussian((X,Y,1,0.5,0.5), 0.1, 0.1, 0, slopex=0, slopey=0, offset=0).reshape(len(x),len(y))\n"
   ]
  },
  {
   "cell_type": "code",
   "execution_count": 28,
   "metadata": {
    "scrolled": true
   },
   "outputs": [],
   "source": [
    "def dist(loc1,loc2):\n",
    "    return sqrt((loc1[0]-loc2[0])**2 + (loc2[1]-loc1[1])**2)\n",
    "\n",
    "n=7\n",
    "steps=1\n",
    "x=linspace(0,1,100)\n",
    "y=linspace(0,1,100)\n",
    "\n",
    "xlen=len(x)\n",
    "ylen=len(y)\n",
    "\n",
    "count=0\n",
    "\n",
    "X,Y=meshgrid(x,y)\n",
    "a=b=0.1\n",
    "count=a\n",
    "data=zeros(shape(X))\n",
    "diagnostics=True\n",
    "rmlist=[]\n",
    "\n",
    "eddies={'eddy_n%s' % ii:{'loc':[[randint(0,xlen), randint(0,ylen)]],'grow':True,'radius':a,\\\n",
    "                         'amp':random.choice([-1,1])} for ii in range(n)}\n",
    "#print(eddies)\n",
    "def checkposition(eddies,x,y,):\n",
    "    for key,item in eddies.items():\n",
    "        for key1,item1 in eddies.items():\n",
    "            xc=item['loc'][0][0]\n",
    "            yc=item['loc'][0][1]\n",
    "            xc1=item1['loc'][0][0]\n",
    "            yc1=item1['loc'][0][1]\n",
    "            distance=dist([x[xc],y[yc]],[x[xc1],y[yc1]])\n",
    "            #print(distance)\n",
    "            checker = (distance < 1*a or distance < 1*b ) and key1!=key\n",
    "            #print(checker)\n",
    "            while checker:\n",
    "                newx=randint(0,xlen)\n",
    "                newy=randint(0,ylen)\n",
    "                eddies[key1]={'loc':[[newx, newy]],'grow':True,'radius':a,\\\n",
    "                             'amp':random.choice([-1,1])}\n",
    "                xc1=newx\n",
    "                yc1=newy\n",
    "                distance=dist([x[xc],y[yc]],[x[xc1],y[yc1]])\n",
    "                checker = (distance < 1*a or distance < 1*b ) and key1!=key"
   ]
  },
  {
   "cell_type": "code",
   "execution_count": 29,
   "metadata": {},
   "outputs": [],
   "source": [
    "checkposition(eddies,x,y)"
   ]
  },
  {
   "cell_type": "code",
   "execution_count": 30,
   "metadata": {},
   "outputs": [],
   "source": [
    "data=zeros(shape(X))\n",
    "for keys, item in eddies.items():\n",
    "    gauss=twoD_Gaussian((X,Y,item['amp'],x[item['loc'][0][0]],y[item['loc'][0][1]]),\\\n",
    "                        item['radius'], item['radius'], 0, slopex=0, slopey=0, offset=0).reshape(shape(X))\n",
    "    data=data+gauss"
   ]
  },
  {
   "cell_type": "code",
   "execution_count": 31,
   "metadata": {},
   "outputs": [
    {
     "data": {
      "image/png": "[encoded data removed]",
      "text/plain": [
       "<matplotlib.figure.Figure at 0x1c26360eb8>"
      ]
     },
     "metadata": {},
     "output_type": "display_data"
    }
   ],
   "source": [
    "pcolormesh(x,y,data)\n",
    "plt.gca().set_aspect('equal', adjustable='box')"
   ]
  },
  {
   "cell_type": "code",
   "execution_count": 32,
   "metadata": {
    "collapsed": true
   },
   "outputs": [],
   "source": [
    "def make_random_walk(indexs, steps):\n",
    "    move_dict = {1: go_up,\n",
    "                 2: go_right,\n",
    "                 3: go_left,\n",
    "                 4: go_down,\n",
    "                 5: go_downleft,\n",
    "                 6: go_downright,\n",
    "                 7: go_upleft,\n",
    "                 8: go_upright,\n",
    "                 }\n",
    "    for _ in range(steps):\n",
    "        for ii in indexs:\n",
    "            move_in_a_direction = move_dict[random.randint(1, 8)]\n",
    "            movcood=move_in_a_direction(ii,5)\n",
    "    return indexs[0]+movcood[0],indexs[1]+movcood[1]"
   ]
  },
  {
   "cell_type": "code",
   "execution_count": 33,
   "metadata": {
    "scrolled": true
   },
   "outputs": [],
   "source": [
    "time=1\n",
    "moving=True\n",
    "count=0\n",
    "while time <= 40:\n",
    "    #print(item['loc'])\n",
    "    [item['loc'].append(list(make_random_walk([item['loc'][time-1][0],item['loc'][time-1][1]],1))) for key,item in eddies.items()]\n",
    "    #print(item['loc'])\n",
    "    #item['loc'].append(list(make_random_walk([item['loc'][time-1][0],item['loc'][time-1][1]],1)))\n",
    "    time=time+1"
   ]
  },
  {
   "cell_type": "code",
   "execution_count": 34,
   "metadata": {},
   "outputs": [],
   "source": [
    "x=linspace(-1,2,300)\n",
    "y=linspace(-1,2,300)\n",
    "data=zeros((40,len(x),len(y)))\n",
    "X,Y=meshgrid(x,y)\n",
    "for t in range(40):\n",
    "    for keys, item in eddies.items():\n",
    "        gauss=twoD_Gaussian((X,Y,item['amp'],x[item['loc'][t][0]+100],y[item['loc'][t][1]+100]),\\\n",
    "                        item['radius'], item['radius'], 0, slopex=0, slopey=0, offset=0).reshape(shape(X))\n",
    "        data[t,:,:]=data[t,:,:]+gauss"
   ]
  },
  {
   "cell_type": "code",
   "execution_count": 35,
   "metadata": {},
   "outputs": [
    {
     "data": {
      "text/plain": [
       "<matplotlib.collections.QuadMesh at 0x1c2669e3c8>"
      ]
     },
     "execution_count": 35,
     "metadata": {},
     "output_type": "execute_result"
    },
    {
     "data": {
      "image/png": "[encoded data removed]",
      "text/plain": [
       "<matplotlib.figure.Figure at 0x1c25deca90>"
      ]
     },
     "metadata": {},
     "output_type": "display_data"
    }
   ],
   "source": [
    "pcolormesh(x,y,data[0,:,:])"
   ]
  },
  {
   "cell_type": "code",
   "execution_count": 36,
   "metadata": {},
   "outputs": [
    {
     "name": "stdout",
     "output_type": "stream",
     "text": [
      " 0% [====================>]100% | Elapsed Time:0 s | Estimated Time:0 s | Info: Init time |\n",
      " 0% [====================>]100% | Elapsed Time:2046 s | Estimated Time:2046 s | Info: 86 |\n"
     ]
    }
   ],
   "source": [
    "eddytdn=analyseddyzt(data,x,y,0,40,1,-0.5,-0.01,-0.01\\\n",
    "                    ,data_meant='',areamap='',mask=''\\\n",
    "                    ,destdir='',physics='',diagnostics=False,plotdata=False,pprint=False)"
   ]
  },
  {
   "cell_type": "code",
   "execution_count": 37,
   "metadata": {},
   "outputs": [
    {
     "name": "stdout",
     "output_type": "stream",
     "text": [
      " 0% [====================>]100% | Elapsed Time:0 s | Estimated Time:0 s | Info: Init time |\n",
      " 0% [====================>]100% | Elapsed Time:1627 s | Estimated Time:1627 s | Info: 70 |\n"
     ]
    }
   ],
   "source": [
    "eddytd=analyseddyzt(data,x,y,0,40,1,0.5,0.01,0.01\\\n",
    "                    ,data_meant='',areamap='',mask=''\\\n",
    "                    ,destdir='',physics='',diagnostics=False,plotdata=False,pprint=False)"
   ]
  },
  {
   "cell_type": "code",
   "execution_count": 38,
   "metadata": {},
   "outputs": [
    {
     "name": "stdout",
     "output_type": "stream",
     "text": [
      " 0% [====================>]100% | Elapsed Time:1 s | Estimated Time:1 s | Info: eddyn_1 |\n",
      " 0% [====================>]100% | Elapsed Time:0 s | Estimated Time:0 s | Info: eddyn_7 |\n"
     ]
    }
   ],
   "source": [
    "syntetic_gaussian=reconstruct_syntetic(shape(data),x,y,eddytd)+reconstruct_syntetic(shape(data),x,y,eddytdn)"
   ]
  },
  {
   "cell_type": "code",
   "execution_count": null,
   "metadata": {},
   "outputs": [],
   "source": [
    "import matplotlib.pyplot as plt\n",
    "import numpy as np\n",
    "import matplotlib.gridspec as gridspec\n",
    "import matplotlib.animation as animation\n",
    "from matplotlib import rc\n",
    "rc('animation', html='html5')\n",
    "############################\n",
    "#Create the figure\n",
    "\n",
    "fig = plt.figure(figsize=(6, 3),facecolor='white')\n",
    "gs = gridspec.GridSpec(1, 2)\n",
    "\n",
    "#############################\n",
    "\n",
    "ax1 = plt.subplot(gs[0,0])\n",
    "\n",
    "quad1 = ax1.pcolormesh(x,y,data[0,:,:],shading='gouraud',cmap=cm.cm.balance,vmin=-1,vmax=1)\n",
    "\n",
    "ax2 = plt.subplot(gs[0,1])\n",
    "\n",
    "quad2 = ax2.pcolormesh(x,y,syntetic_gaussian[0,:,:],shading='gouraud',cmap=cm.cm.balance,vmin=-1,vmax=1)\n",
    "\n",
    "\n",
    "#line4a, =ax4.plot(lat,sum(zzz[0,:,:],axis=1),'-r')\n",
    "#ax4.set_ylim([-150,150])\n",
    "\n",
    "##############################\n",
    "\n",
    "##############################\n",
    "#Intitial stage blank\n",
    "def init():\n",
    "    quad1.set_array([])\n",
    "    quad2.set_array([])\n",
    "    #line4a.set_data([], [])\n",
    "    #line4b.set_data([], [])\n",
    "    #text4.set_text('')\n",
    "    return quad1,quad2\n",
    "##############################\n",
    "\n",
    "##############################\n",
    "#Animation function, replace the values of the eke in a '1d list'\n",
    "def animate(iter):\n",
    "    quad1.set_array(data[iter,:,:].ravel())\n",
    "    quad2.set_array(syntetic_gaussian[iter,:,:].ravel())\n",
    "    \n",
    "    #line4a.set_data(lat,sum(zzz[iter,:,:],axis=1))\n",
    "    return quad1,quad2\n",
    "##############################\n",
    "\n",
    "##############################\n",
    "#Remove edges\n",
    "gs.tight_layout(fig)\n",
    "##############################\n",
    "\n",
    "##############################\n",
    "#Animation structure\n",
    "anim2 = animation.FuncAnimation(fig,animate,frames=40,interval=1000,blit=False,repeat=True)\n",
    "##############################\n",
    "plt.close()\n",
    "##############################\n",
    "#Display and convert animation to html5\n",
    "anim2"
   ]
  },
  {
   "cell_type": "code",
   "execution_count": null,
   "metadata": {
    "collapsed": true
   },
   "outputs": [],
   "source": [
    "\n",
    "\n",
    "while steps != 0:\n",
    "    \n",
    "    amp=randint(-1,1)\n",
    "    amp=-1\n",
    "    if amp!=0:\n",
    "        count=a\n",
    "        for xc,yy in loc:\n",
    "\n",
    "            gauss=twoD_Gaussian((X,Y,amp,x[xc],y[yc]), count, count, 0, slopex=0, slopey=0, offset=0).reshape(shape(X))\n",
    "\n",
    "            if x[xc]+(2*count) >= x.max() or x[xc]-(2*count) <= x.min() or y[yc]+(2*count) >= y.max() or y[yc]-(2*count) <= y.min():\n",
    "                data=data+gauss\n",
    "                steps=steps-1\n",
    "            else:\n",
    "                count=count+a\n",
    "        if diagnostics == True:\n",
    "            pcolormesh(x,y,data)\n",
    "            plot(x[xc],y[yc],'*r')\n",
    "            plot([x[xc]-2*count,x[xc]+2*count],[y[yc],y[yc]],'-k')\n",
    "            plot([x[xc],x[xc]],[y[yc]-2*count,y[yc]+2*count],'-g')\n",
    "            colorbar()\n",
    "            show()"
   ]
  }
 ],
 "metadata": {
  "kernelspec": {
   "display_name": "Python 3",
   "language": "python",
   "name": "python3"
  },
  "language_info": {
   "codemirror_mode": {
    "name": "ipython",
    "version": 3
   },
   "file_extension": ".py",
   "mimetype": "text/x-python",
   "name": "python",
   "nbconvert_exporter": "python",
   "pygments_lexer": "ipython3",
   "version": "3.6.1"
  }
 },
 "nbformat": 4,
 "nbformat_minor": 2
}
